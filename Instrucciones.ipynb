{
  "nbformat": 4,
  "nbformat_minor": 0,
  "metadata": {
    "colab": {
      "provenance": [],
      "authorship_tag": "ABX9TyNISBx3FmAyxpM17aOWDeX+",
      "include_colab_link": true
    },
    "kernelspec": {
      "name": "python3",
      "display_name": "Python 3"
    },
    "language_info": {
      "name": "python"
    }
  },
  "cells": [
    {
      "cell_type": "markdown",
      "metadata": {
        "id": "view-in-github",
        "colab_type": "text"
      },
      "source": [
        "<a href=\"https://colab.research.google.com/github/seracuso23/util/blob/main/Instrucciones.ipynb\" target=\"_parent\"><img src=\"https://colab.research.google.com/assets/colab-badge.svg\" alt=\"Open In Colab\"/></a>"
      ]
    },
    {
      "cell_type": "code",
      "source": [
        "%reset"
      ],
      "metadata": {
        "colab": {
          "base_uri": "https://localhost:8080/"
        },
        "id": "MBWXL_sWrSoM",
        "outputId": "18bd63a4-2844-45d2-8990-2b1130472f14"
      },
      "execution_count": 471,
      "outputs": [
        {
          "name": "stdout",
          "output_type": "stream",
          "text": [
            "Once deleted, variables cannot be recovered. Proceed (y/[n])? y\n"
          ]
        }
      ]
    },
    {
      "cell_type": "code",
      "source": [
        "%whos"
      ],
      "metadata": {
        "colab": {
          "base_uri": "https://localhost:8080/"
        },
        "id": "KEArcohArWgU",
        "outputId": "1cb60de8-6f45-427a-f003-69fd32fc9343"
      },
      "execution_count": 454,
      "outputs": [
        {
          "output_type": "stream",
          "name": "stdout",
          "text": [
            "Interactive namespace is empty.\n"
          ]
        }
      ]
    },
    {
      "cell_type": "code",
      "source": [
        "import pandas as pd\n",
        "import re\n",
        "import numpy as np"
      ],
      "metadata": {
        "id": "N-DW2K6wUyUX"
      },
      "execution_count": 472,
      "outputs": []
    },
    {
      "cell_type": "code",
      "source": [
        "pd.set_option('display.max_columns',None)\n",
        "pd.set_option('display.width',None)\n",
        "pd.set_option('display.expand_frame_repr',False)\n",
        "pd.set_option('display.float_format',None)"
      ],
      "metadata": {
        "id": "hf213Z4yqUC_"
      },
      "execution_count": 473,
      "outputs": []
    },
    {
      "cell_type": "code",
      "execution_count": 474,
      "metadata": {
        "id": "Ddk-9UGkKxgw"
      },
      "outputs": [],
      "source": [
        "var='saldomora'\n",
        "var2='Fuente'\n",
        "categorias=['Comercial','Bancaria']\n",
        "funciones=['avg','max','sum']\n",
        "lags=[1,3,6,12]\n",
        "lags=sorted(lags)\n",
        "lags_s= ['_'+sub+'M' for sub in [str(x) for x in lags]]\n"
      ]
    },
    {
      "cell_type": "code",
      "source": [
        "lags_s"
      ],
      "metadata": {
        "colab": {
          "base_uri": "https://localhost:8080/"
        },
        "id": "bxnxIxMp-0Cy",
        "outputId": "bb4e0040-4b14-4e2b-e93b-5cde1b305d0b"
      },
      "execution_count": 475,
      "outputs": [
        {
          "output_type": "execute_result",
          "data": {
            "text/plain": [
              "['_1M', '_3M', '_6M', '_12M']"
            ]
          },
          "metadata": {},
          "execution_count": 475
        }
      ]
    },
    {
      "cell_type": "markdown",
      "source": [
        "## Numerica Categorica"
      ],
      "metadata": {
        "id": "eGh1SyDKGYrn"
      }
    },
    {
      "cell_type": "code",
      "source": [
        "var_comun_b_df_list=list()\n",
        "funcion_p=['min','max','avg']\n",
        "df_l=list()\n",
        "var_total_list_3=list()\n",
        "for categoria_x in categorias:\n",
        "  var_total_list_2=list()\n",
        "  for funcion_x in funciones:\n",
        "    #print(categoria_x,funcion_x)\n",
        "    nombre_l=list()\n",
        "    query_l=list()\n",
        "    lag_l=list()\n",
        "    for lag_x in list(range(max(lags)+1))[1:]:\n",
        "      #print(lag_x)\n",
        "      query=f\"{funcion_x}(case when {var2}='{categoria_x}' then {var} else 0 end)\"\n",
        "      nombre=f\"{funcion_x}_{var}_{categoria_x}_{lag_x}M\"\n",
        "      lag=lag_x\n",
        "      #print(query,lag_x,nombre)\n",
        "      nombre_l.append(nombre)\n",
        "      query_l.append(query)\n",
        "      lag_l.append(lag)\n",
        "\n",
        "    var_comun_p_df=pd.DataFrame({\n",
        "        'Nombre': nombre_l,\n",
        "        'Query': query_l,\n",
        "        'Lag': lag_l\n",
        "      })\n",
        "    var_comun_p_df['Tipo']='comun'\n",
        "    var_comun_p_df['Funcion']='sql'\n",
        "    var_comun_p_df['a_p']='p'\n",
        "\n",
        "    var_comun_a_df=var_comun_p_df.copy()\n",
        "    var_comun_a_df=var_comun_a_df[var_comun_a_df.Lag.isin(lags)]\n",
        "    var_comun_a_df['a_p']='a'\n",
        "    var_comun_p_df['Nombre']='p_'+var_comun_p_df['Nombre']\n",
        "    ## Acumulados para las variables puntuales\n",
        "    nombre_l_p=list()\n",
        "    query_l_p=list()\n",
        "    funcion_l_p=list()\n",
        "    lag_l_p=list()\n",
        "    for ff in funcion_p:\n",
        "      for lags_a in lags:\n",
        "        var_a_list_1=var_comun_p_df[(var_comun_p_df.Lag<=lags_a) & (var_comun_p_df.Nombre.str.contains(categoria_x)) & (var_comun_p_df.Nombre.str.contains(funcion_x))]['Nombre'].to_list()\n",
        "        var_a_concat=\",\".join(var_a_list_1)\n",
        "        query_a=f'{ff}({var_a_concat})'\n",
        "        nombre_aa=re.sub('_*([^_*]*)$','',var_a_list_1[0])\n",
        "        nombre_a=f'{ff}_{nombre_aa}_{lags_a}M'\n",
        "        nombre_l_p.append(nombre_a)\n",
        "        query_l_p.append(query_a)\n",
        "        funcion_l_p.append(ff)\n",
        "        lag_l_p.append(lags_a)\n",
        "        var_comun_pa_dic={\n",
        "        'Nombre': nombre_l_p,\n",
        "        'Query': query_l_p,\n",
        "        'Funcion':funcion_l_p,\n",
        "        'Lag': lag_l_p\n",
        "        }\n",
        "    var_comun_pa_df=pd.DataFrame(var_comun_pa_dic)\n",
        "    var_comun_pa_df['Tipo']='ratio'\n",
        "    var_comun_pa_df['a_p']='p_a'\n",
        "\n",
        "    var_comun1_df=pd.concat([var_comun_a_df,var_comun_p_df,var_comun_pa_df])\n",
        "\n",
        "    ## Var Ratios\n",
        "    nombre_lr=list()\n",
        "    query_lr=list()\n",
        "    tipo_lr=list()\n",
        "\n",
        "    for a_p_x in ['a','p_a']:\n",
        "      variable_x=var_comun1_df[(var_comun1_df.a_p==a_p_x)]['Nombre'].str.replace('_*([^_*]*)$','',regex=True).drop_duplicates().to_list()\n",
        "      for var_x in variable_x:\n",
        "        for lag_s_x in range(len(lags_s)):\n",
        "          #print(lag_x,lag_s_x)\n",
        "          nom_lag_x=lags_s[lag_s_x]\n",
        "          nom_lag_x_n=nom_lag_x.replace('_','')\n",
        "          numerador=var_comun1_df[(var_comun1_df.Lag==lags[lag_s_x]) & (var_comun1_df.a_p==a_p_x) & (var_comun1_df.Nombre.str.contains(var_x))]['Nombre'].values[0]\n",
        "          name_num=numerador.replace(nom_lag_x,'')\n",
        "          for lag_s_y in range(len(lags_s))[lag_s_x+1:]:\n",
        "            #print(nom_lag_x,nom_lag_y)\n",
        "            nom_lag_y=lags_s[lag_s_y]\n",
        "            nom_lag_y_n=nom_lag_y.replace('_','')\n",
        "            #print(nom_lag_x,nom_lag_y)\n",
        "            denominador=var_comun1_df[(var_comun1_df.Lag==lags[lag_s_y] ) & (var_comun1_df.a_p==a_p_x) & (var_comun1_df.Nombre.str.contains(var_x))]['Nombre'].values[0]\n",
        "            query_r=numerador+'/'+denominador\n",
        "            nombre_r=f'{name_num}_T{nom_lag_x_n}{nom_lag_y_n}'\n",
        "            nombre_lr.append(nombre_r)\n",
        "            query_lr.append(query_r)\n",
        "            if a_p_x=='p_a':\n",
        "              tipo_lr.append('ratio2')\n",
        "            else:\n",
        "              tipo_lr.append('ratio')\n",
        "    var_ratio={\n",
        "        'Nombre': nombre_lr,\n",
        "        'Query': query_lr,\n",
        "        'Tipo': tipo_lr}\n",
        "    var_ratio_df=pd.DataFrame(var_ratio)\n",
        "    var_ratio_df['Funcion']='div' \n",
        "      ## Append para cada tipo de a_funcion\n",
        "    var_total_df=pd.concat([var_comun1_df,var_ratio_df])\n",
        "    var_total_list_2.append(var_total_df) # Tengo una lista para cada funcion y a\n",
        "    ## Append para cada categoria\n",
        "    var_total_df_2=pd.concat(var_total_list_2)\n",
        "  var_total_list_3.append(var_total_df_2)\n",
        "var_total_df_4=pd.concat(var_total_list_3)\n",
        "var_total_df_4['a_p']=np.where(var_total_df_4['Tipo']!='comun',np.nan,var_total_df_4['a_p'])\n",
        "var_total_df_4['Lag']=np.where(var_total_df_4['Tipo']!='comun',np.nan,var_total_df_4['Lag'])"
      ],
      "metadata": {
        "id": "-9AXmhwBfFyl"
      },
      "execution_count": 482,
      "outputs": []
    },
    {
      "cell_type": "code",
      "source": [
        "var_total_df_4.shape"
      ],
      "metadata": {
        "colab": {
          "base_uri": "https://localhost:8080/"
        },
        "id": "YkJqysznE7r-",
        "outputId": "e5ca0d8d-779d-4803-a0e9-50dbcecf0683"
      },
      "execution_count": 483,
      "outputs": [
        {
          "output_type": "execute_result",
          "data": {
            "text/plain": [
              "(312, 6)"
            ]
          },
          "metadata": {},
          "execution_count": 483
        }
      ]
    },
    {
      "cell_type": "code",
      "source": [
        "len(var_total_list_3)"
      ],
      "metadata": {
        "colab": {
          "base_uri": "https://localhost:8080/"
        },
        "id": "yaLFZkZFcqPC",
        "outputId": "9bea0e05-fad9-440b-a02a-6fd44244085c"
      },
      "execution_count": 484,
      "outputs": [
        {
          "output_type": "execute_result",
          "data": {
            "text/plain": [
              "2"
            ]
          },
          "metadata": {},
          "execution_count": 484
        }
      ]
    },
    {
      "cell_type": "code",
      "source": [
        "52*3"
      ],
      "metadata": {
        "colab": {
          "base_uri": "https://localhost:8080/"
        },
        "id": "KNpMVWW9Xe98",
        "outputId": "8556baa7-f3b9-429c-ec1c-036a02def72d"
      },
      "execution_count": 395,
      "outputs": [
        {
          "output_type": "execute_result",
          "data": {
            "text/plain": [
              "156"
            ]
          },
          "metadata": {},
          "execution_count": 395
        }
      ]
    },
    {
      "cell_type": "code",
      "source": [
        "var_total_df_2.shape"
      ],
      "metadata": {
        "colab": {
          "base_uri": "https://localhost:8080/"
        },
        "id": "N2ANm-DyXkTW",
        "outputId": "6d0e51e2-72fe-4349-f107-a95bd93c9b31"
      },
      "execution_count": 396,
      "outputs": [
        {
          "output_type": "execute_result",
          "data": {
            "text/plain": [
              "(156, 6)"
            ]
          },
          "metadata": {},
          "execution_count": 396
        }
      ]
    },
    {
      "cell_type": "code",
      "source": [
        "len(var_total_list_3)"
      ],
      "metadata": {
        "colab": {
          "base_uri": "https://localhost:8080/"
        },
        "id": "pfTjrQ_2W4nP",
        "outputId": "a33441fd-db74-419a-cfd2-425c14e8953b"
      },
      "execution_count": 397,
      "outputs": [
        {
          "output_type": "execute_result",
          "data": {
            "text/plain": [
              "2"
            ]
          },
          "metadata": {},
          "execution_count": 397
        }
      ]
    },
    {
      "cell_type": "code",
      "source": [
        "156*2"
      ],
      "metadata": {
        "colab": {
          "base_uri": "https://localhost:8080/"
        },
        "id": "YbpkLknBX2rc",
        "outputId": "3da1e0ca-9526-4f5c-a120-eaf01339d1f8"
      },
      "execution_count": 399,
      "outputs": [
        {
          "output_type": "execute_result",
          "data": {
            "text/plain": [
              "312"
            ]
          },
          "metadata": {},
          "execution_count": 399
        }
      ]
    },
    {
      "cell_type": "code",
      "source": [
        "var_total_df_4.shape"
      ],
      "metadata": {
        "colab": {
          "base_uri": "https://localhost:8080/"
        },
        "id": "ulXme14iVYw5",
        "outputId": "0e9d53d5-39fe-4966-a12b-ec3be2f71241"
      },
      "execution_count": 398,
      "outputs": [
        {
          "output_type": "execute_result",
          "data": {
            "text/plain": [
              "(312, 6)"
            ]
          },
          "metadata": {},
          "execution_count": 398
        }
      ]
    },
    {
      "cell_type": "code",
      "source": [
        "len(var_total_list_3)"
      ],
      "metadata": {
        "colab": {
          "base_uri": "https://localhost:8080/"
        },
        "id": "_Yr6ST3eVdvV",
        "outputId": "0257824a-1b4c-46b8-fb25-37ffab5ba490"
      },
      "execution_count": 386,
      "outputs": [
        {
          "output_type": "execute_result",
          "data": {
            "text/plain": [
              "6"
            ]
          },
          "metadata": {},
          "execution_count": 386
        }
      ]
    },
    {
      "cell_type": "code",
      "source": [
        "var_total_df_4.drop_duplicates().shape"
      ],
      "metadata": {
        "colab": {
          "base_uri": "https://localhost:8080/"
        },
        "id": "QUDxHL0iTR_7",
        "outputId": "026cfbc5-833a-4d32-c3fd-a1609d4a274c"
      },
      "execution_count": 383,
      "outputs": [
        {
          "output_type": "execute_result",
          "data": {
            "text/plain": [
              "(312, 6)"
            ]
          },
          "metadata": {},
          "execution_count": 383
        }
      ]
    },
    {
      "cell_type": "markdown",
      "source": [
        "## Numerica"
      ],
      "metadata": {
        "id": "6WWLKVWWGiCA"
      }
    },
    {
      "cell_type": "code",
      "source": [
        "var_comun_b_df_list=list()\n",
        "funcion_p=['min','max','avg']\n",
        "df_l=list()\n",
        "var_total_list_3=list()\n",
        "\n",
        "var_total_list_2=list()\n",
        "for funcion_x in funciones:\n",
        "  #print(categoria_x,funcion_x)\n",
        "  nombre_l=list()\n",
        "  query_l=list()\n",
        "  lag_l=list()\n",
        "  funcion_l=list()\n",
        "  for lag_x in list(range(max(lags)+1))[1:]:\n",
        "    #print(lag_x)\n",
        "    query=f\"{funcion_x}({var})\"\n",
        "    nombre=f\"{funcion_x}_{var}_{lag_x}M\"\n",
        "    lag=lag_x\n",
        "    #print(query,lag_x,nombre)\n",
        "    nombre_l.append(nombre)\n",
        "    query_l.append(query)\n",
        "    lag_l.append(lag)\n",
        "    funcion_l.append(funcion_x)\n",
        "\n",
        "  var_comun_p_df=pd.DataFrame({\n",
        "        'Nombre': nombre_l,\n",
        "        'Query': query_l,\n",
        "        'Lag': lag_l,\n",
        "        'Funcion':funcion_l\n",
        "      })\n",
        "  var_comun_p_df['Tipo']='comun'\n",
        "  var_comun_p_df['a_p']='p'\n",
        "\n",
        "  var_comun_a_df=var_comun_p_df.copy()\n",
        "  var_comun_a_df=var_comun_a_df[var_comun_a_df.Lag.isin(lags)]\n",
        "  var_comun_a_df['a_p']='a'\n",
        "  var_comun_p_df['Nombre']='p_'+var_comun_p_df['Nombre']\n",
        "\n",
        "  ## Acumulados para las variables puntuales\n",
        "  nombre_l_p=list()\n",
        "  query_l_p=list()\n",
        "  funcion_l_p=list()\n",
        "  lag_l_p=list()\n",
        "  for ff in funcion_p:\n",
        "    for lags_a in lags:\n",
        "      var_a_list_1=var_comun_p_df[(var_comun_p_df.Lag<=lags_a) & (var_comun_p_df.Nombre.str.contains(funcion_x))]['Nombre'].to_list()\n",
        "      var_a_concat=\",\".join(var_a_list_1)\n",
        "      query_a=f'{ff}({var_a_concat})'\n",
        "      nombre_aa=re.sub('_*([^_*]*)$','',var_a_list_1[0])\n",
        "      nombre_a=f'{ff}_a{nombre_aa}_{lags_a}M'\n",
        "      nombre_l_p.append(nombre_a)\n",
        "      query_l_p.append(query_a)\n",
        "      funcion_l_p.append(ff)\n",
        "      lag_l_p.append(lags_a)\n",
        "      var_comun_pa_dic={\n",
        "        'Nombre': nombre_l_p,\n",
        "        'Query': query_l_p,\n",
        "        'Funcion':funcion_l_p,\n",
        "        'Lag': lag_l_p\n",
        "      }\n",
        "  var_comun_pa_df=pd.DataFrame(var_comun_pa_dic)\n",
        "  var_comun_pa_df['Tipo']='ratio'\n",
        "  var_comun_pa_df['a_p']='p_a'\n",
        "\n",
        "  var_comun1_df=pd.concat([var_comun_a_df,var_comun_p_df,var_comun_pa_df])\n",
        "\n",
        "  ## Var Ratios\n",
        "  nombre_lr=list()\n",
        "  query_lr=list()\n",
        "  tipo_lr=list()\n",
        "\n",
        "  for a_p_x in ['a','p_a']:\n",
        "    variable_x=var_comun1_df[(var_comun1_df.a_p==a_p_x)]['Nombre'].str.replace('_*([^_*]*)$','',regex=True).drop_duplicates().to_list()\n",
        "    for var_x in variable_x:\n",
        "      for lag_s_x in range(len(lags_s)):\n",
        "        #print(lag_x,lag_s_x)\n",
        "        nom_lag_x=lags_s[lag_s_x]\n",
        "        nom_lag_x_n=nom_lag_x.replace('_','')\n",
        "        numerador=var_comun1_df[(var_comun1_df.Lag==lags[lag_s_x]) & (var_comun1_df.a_p==a_p_x) & (var_comun1_df.Nombre.str.contains(var_x))]['Nombre'].values[0]\n",
        "        name_num=numerador.replace(nom_lag_x,'')\n",
        "        for lag_s_y in range(len(lags_s))[lag_s_x+1:]:\n",
        "          #print(nom_lag_x,nom_lag_y)\n",
        "          nom_lag_y=lags_s[lag_s_y]\n",
        "          nom_lag_y_n=nom_lag_y.replace('_','')\n",
        "          #print(nom_lag_x,nom_lag_y)\n",
        "          denominador=var_comun1_df[(var_comun1_df.Lag==lags[lag_s_y] ) & (var_comun1_df.a_p==a_p_x) & (var_comun1_df.Nombre.str.contains(var_x))]['Nombre'].values[0]\n",
        "          query_r=numerador+'/'+denominador\n",
        "          nombre_r=f'{name_num}_T{nom_lag_x_n}{nom_lag_y_n}'\n",
        "          nombre_lr.append(nombre_r)\n",
        "          query_lr.append(query_r)\n",
        "          if a_p_x=='p_a':\n",
        "            tipo_lr.append('ratio2')\n",
        "          else:\n",
        "            tipo_lr.append('ratio')\n",
        "  var_ratio={\n",
        "        'Nombre': nombre_lr,\n",
        "        'Query': query_lr,\n",
        "        'Tipo': tipo_lr}\n",
        "  var_ratio_df=pd.DataFrame(var_ratio)\n",
        "  var_ratio_df['Funcion']='div' \n",
        "      \n",
        "  var_total_df=pd.concat([var_comun1_df,var_ratio_df])\n",
        "  ## Append para cada tipo de a_funcion\n",
        "  var_total_list_2.append(var_total_df) # Tengo una lista para cada funcion y a\n",
        "  ## Append para cada categoria\n",
        "  var_total_df_2=pd.concat(var_total_list_2)\n",
        "var_total_list_3.append(var_total_df_2)\n",
        "var_total_df_4=pd.concat(var_total_list_3)\n",
        "var_total_df_4['a_p']=np.where(var_total_df_4['Tipo']!='comun',np.nan,var_total_df_4['a_p'])\n",
        "var_total_df_4['Lag']=np.where(var_total_df_4['Tipo']!='comun',np.nan,var_total_df_4['Lag'])"
      ],
      "metadata": {
        "id": "EwRlTfTjA-vC"
      },
      "execution_count": 485,
      "outputs": []
    },
    {
      "cell_type": "code",
      "source": [
        "var_total_df_4.shape"
      ],
      "metadata": {
        "colab": {
          "base_uri": "https://localhost:8080/"
        },
        "id": "NX4gOfhpiO9q",
        "outputId": "32a27ffc-b170-4c9c-ce0d-e00b847d482f"
      },
      "execution_count": 487,
      "outputs": [
        {
          "output_type": "execute_result",
          "data": {
            "text/plain": [
              "(156, 6)"
            ]
          },
          "metadata": {},
          "execution_count": 487
        }
      ]
    },
    {
      "cell_type": "markdown",
      "source": [
        "## Variable conteo"
      ],
      "metadata": {
        "id": "HbDSeWNbNzDJ"
      }
    },
    {
      "cell_type": "code",
      "source": [
        "var_comun_b_df_list=list()\n",
        "funcion_p=['min','max','avg']\n",
        "df_l=list()\n",
        "var_total_list_3=list()\n",
        "\n",
        "var_total_list_2=list()\n",
        "\n",
        "#print(categoria_x,funcion_x)\n",
        "nombre_l=list()\n",
        "query_l=list()\n",
        "lag_l=list()\n",
        "funcion_l=list()\n",
        "for lag_x in list(range(max(lags)+1))[1:]:\n",
        "  #print(lag_x)\n",
        "  query=f\"COUNT( DISTINCT {var})\"\n",
        "  nombre=f\"N_{var}_{lag_x}M\"\n",
        "  lag=lag_x\n",
        "  #print(query,lag_x,nombre)\n",
        "  nombre_l.append(nombre)\n",
        "  query_l.append(query)\n",
        "  lag_l.append(lag)\n",
        "  funcion_l.append(funcion_x)\n",
        "\n",
        "var_comun_p_df=pd.DataFrame({\n",
        "        'Nombre': nombre_l,\n",
        "        'Query': query_l,\n",
        "        'Lag': lag_l,\n",
        "        'Funcion':funcion_l\n",
        "      })\n",
        "var_comun_p_df['Tipo']='comun'\n",
        "var_comun_p_df['a_p']='p'\n",
        "\n",
        "var_comun_a_df=var_comun_p_df.copy()\n",
        "var_comun_a_df=var_comun_a_df[var_comun_a_df.Lag.isin(lags)]\n",
        "var_comun_a_df['a_p']='a'\n",
        "\n",
        "var_comun1_df=pd.concat([var_comun_a_df])\n",
        "\n",
        "## Var Ratios\n",
        "nombre_lr=list()\n",
        "query_lr=list()\n",
        "tipo_lr=list()\n",
        "\n",
        "for a_p_x in ['a']:\n",
        "  variable_x=var_comun1_df[(var_comun1_df.a_p==a_p_x)]['Nombre'].str.replace('_*([^_*]*)$','',regex=True).drop_duplicates().to_list()\n",
        "  for var_x in variable_x:\n",
        "    for lag_s_x in range(len(lags_s)):\n",
        "      #print(lag_x,lag_s_x)\n",
        "      nom_lag_x=lags_s[lag_s_x]\n",
        "      nom_lag_x_n=nom_lag_x.replace('_','')\n",
        "      numerador=var_comun1_df[(var_comun1_df.Lag==lags[lag_s_x]) & (var_comun1_df.a_p==a_p_x) & (var_comun1_df.Nombre.str.contains(var_x))]['Nombre'].values[0]\n",
        "      name_num=numerador.replace(nom_lag_x,'')\n",
        "      for lag_s_y in range(len(lags_s))[lag_s_x+1:]:\n",
        "        #print(nom_lag_x,nom_lag_y)\n",
        "        nom_lag_y=lags_s[lag_s_y]\n",
        "        nom_lag_y_n=nom_lag_y.replace('_','')\n",
        "        #print(nom_lag_x,nom_lag_y)\n",
        "        denominador=var_comun1_df[(var_comun1_df.Lag==lags[lag_s_y] ) & (var_comun1_df.a_p==a_p_x) & (var_comun1_df.Nombre.str.contains(var_x))]['Nombre'].values[0]\n",
        "        query_r=numerador+'/'+denominador\n",
        "        nombre_r=f'{name_num}_T{nom_lag_x_n}{nom_lag_y_n}'\n",
        "        nombre_lr.append(nombre_r)\n",
        "        query_lr.append(query_r)\n",
        "        if a_p_x=='p_a':\n",
        "          tipo_lr.append('ratio2')\n",
        "        else:\n",
        "          tipo_lr.append('ratio')\n",
        "var_ratio={\n",
        "        'Nombre': nombre_lr,\n",
        "        'Query': query_lr,\n",
        "        'Tipo': tipo_lr}\n",
        "var_ratio_df=pd.DataFrame(var_ratio)\n",
        "var_ratio_df['Funcion']='div' \n",
        "      \n",
        "var_total_df=pd.concat([var_comun1_df,var_ratio_df])\n",
        "## Append para cada tipo de a_funcion\n",
        "var_total_list_2.append(var_total_df) # Tengo una lista para cada funcion y a\n",
        "## Append para cada categoria\n",
        "var_total_df_2=pd.concat(var_total_list_2)\n",
        "var_total_df_2['a_p']=np.where(var_total_df_2['Tipo']!='comun',np.nan,var_total_df_2['a_p'])\n",
        "var_total_df_2['Lag']=np.where(var_total_df_2['Tipo']!='comun',np.nan,var_total_df_2['Lag'])"
      ],
      "metadata": {
        "id": "Gh9rfld4N-DP"
      },
      "execution_count": 488,
      "outputs": []
    },
    {
      "cell_type": "code",
      "source": [
        "var_total_df_2.shape"
      ],
      "metadata": {
        "colab": {
          "base_uri": "https://localhost:8080/"
        },
        "id": "7ALGoD_HjjEe",
        "outputId": "8ce6f430-5eb6-485c-c46c-c85a453ec9d6"
      },
      "execution_count": 491,
      "outputs": [
        {
          "output_type": "execute_result",
          "data": {
            "text/plain": [
              "(10, 6)"
            ]
          },
          "metadata": {},
          "execution_count": 491
        }
      ]
    },
    {
      "cell_type": "code",
      "source": [
        "var_total_df_2"
      ],
      "metadata": {
        "colab": {
          "base_uri": "https://localhost:8080/",
          "height": 363
        },
        "id": "BEywVNjljtJA",
        "outputId": "f6473dd6-9415-4b5f-8ca9-f2576ded8bad"
      },
      "execution_count": 492,
      "outputs": [
        {
          "output_type": "execute_result",
          "data": {
            "text/plain": [
              "                Nombre                           Query   Lag Funcion   Tipo  a_p\n",
              "0       N_saldomora_1M      COUNT( DISTINCT saldomora)   1.0     sum  comun    a\n",
              "2       N_saldomora_3M      COUNT( DISTINCT saldomora)   3.0     sum  comun    a\n",
              "5       N_saldomora_6M      COUNT( DISTINCT saldomora)   6.0     sum  comun    a\n",
              "11     N_saldomora_12M      COUNT( DISTINCT saldomora)  12.0     sum  comun    a\n",
              "0    N_saldomora_T1M3M   N_saldomora_1M/N_saldomora_3M   NaN     div  ratio  NaN\n",
              "1    N_saldomora_T1M6M   N_saldomora_1M/N_saldomora_6M   NaN     div  ratio  NaN\n",
              "2   N_saldomora_T1M12M  N_saldomora_1M/N_saldomora_12M   NaN     div  ratio  NaN\n",
              "3    N_saldomora_T3M6M   N_saldomora_3M/N_saldomora_6M   NaN     div  ratio  NaN\n",
              "4   N_saldomora_T3M12M  N_saldomora_3M/N_saldomora_12M   NaN     div  ratio  NaN\n",
              "5   N_saldomora_T6M12M  N_saldomora_6M/N_saldomora_12M   NaN     div  ratio  NaN"
            ],
            "text/html": [
              "\n",
              "  <div id=\"df-e0631f06-f85d-434c-abf0-964eb94f1093\">\n",
              "    <div class=\"colab-df-container\">\n",
              "      <div>\n",
              "<style scoped>\n",
              "    .dataframe tbody tr th:only-of-type {\n",
              "        vertical-align: middle;\n",
              "    }\n",
              "\n",
              "    .dataframe tbody tr th {\n",
              "        vertical-align: top;\n",
              "    }\n",
              "\n",
              "    .dataframe thead th {\n",
              "        text-align: right;\n",
              "    }\n",
              "</style>\n",
              "<table border=\"1\" class=\"dataframe\">\n",
              "  <thead>\n",
              "    <tr style=\"text-align: right;\">\n",
              "      <th></th>\n",
              "      <th>Nombre</th>\n",
              "      <th>Query</th>\n",
              "      <th>Lag</th>\n",
              "      <th>Funcion</th>\n",
              "      <th>Tipo</th>\n",
              "      <th>a_p</th>\n",
              "    </tr>\n",
              "  </thead>\n",
              "  <tbody>\n",
              "    <tr>\n",
              "      <th>0</th>\n",
              "      <td>N_saldomora_1M</td>\n",
              "      <td>COUNT( DISTINCT saldomora)</td>\n",
              "      <td>1.0</td>\n",
              "      <td>sum</td>\n",
              "      <td>comun</td>\n",
              "      <td>a</td>\n",
              "    </tr>\n",
              "    <tr>\n",
              "      <th>2</th>\n",
              "      <td>N_saldomora_3M</td>\n",
              "      <td>COUNT( DISTINCT saldomora)</td>\n",
              "      <td>3.0</td>\n",
              "      <td>sum</td>\n",
              "      <td>comun</td>\n",
              "      <td>a</td>\n",
              "    </tr>\n",
              "    <tr>\n",
              "      <th>5</th>\n",
              "      <td>N_saldomora_6M</td>\n",
              "      <td>COUNT( DISTINCT saldomora)</td>\n",
              "      <td>6.0</td>\n",
              "      <td>sum</td>\n",
              "      <td>comun</td>\n",
              "      <td>a</td>\n",
              "    </tr>\n",
              "    <tr>\n",
              "      <th>11</th>\n",
              "      <td>N_saldomora_12M</td>\n",
              "      <td>COUNT( DISTINCT saldomora)</td>\n",
              "      <td>12.0</td>\n",
              "      <td>sum</td>\n",
              "      <td>comun</td>\n",
              "      <td>a</td>\n",
              "    </tr>\n",
              "    <tr>\n",
              "      <th>0</th>\n",
              "      <td>N_saldomora_T1M3M</td>\n",
              "      <td>N_saldomora_1M/N_saldomora_3M</td>\n",
              "      <td>NaN</td>\n",
              "      <td>div</td>\n",
              "      <td>ratio</td>\n",
              "      <td>NaN</td>\n",
              "    </tr>\n",
              "    <tr>\n",
              "      <th>1</th>\n",
              "      <td>N_saldomora_T1M6M</td>\n",
              "      <td>N_saldomora_1M/N_saldomora_6M</td>\n",
              "      <td>NaN</td>\n",
              "      <td>div</td>\n",
              "      <td>ratio</td>\n",
              "      <td>NaN</td>\n",
              "    </tr>\n",
              "    <tr>\n",
              "      <th>2</th>\n",
              "      <td>N_saldomora_T1M12M</td>\n",
              "      <td>N_saldomora_1M/N_saldomora_12M</td>\n",
              "      <td>NaN</td>\n",
              "      <td>div</td>\n",
              "      <td>ratio</td>\n",
              "      <td>NaN</td>\n",
              "    </tr>\n",
              "    <tr>\n",
              "      <th>3</th>\n",
              "      <td>N_saldomora_T3M6M</td>\n",
              "      <td>N_saldomora_3M/N_saldomora_6M</td>\n",
              "      <td>NaN</td>\n",
              "      <td>div</td>\n",
              "      <td>ratio</td>\n",
              "      <td>NaN</td>\n",
              "    </tr>\n",
              "    <tr>\n",
              "      <th>4</th>\n",
              "      <td>N_saldomora_T3M12M</td>\n",
              "      <td>N_saldomora_3M/N_saldomora_12M</td>\n",
              "      <td>NaN</td>\n",
              "      <td>div</td>\n",
              "      <td>ratio</td>\n",
              "      <td>NaN</td>\n",
              "    </tr>\n",
              "    <tr>\n",
              "      <th>5</th>\n",
              "      <td>N_saldomora_T6M12M</td>\n",
              "      <td>N_saldomora_6M/N_saldomora_12M</td>\n",
              "      <td>NaN</td>\n",
              "      <td>div</td>\n",
              "      <td>ratio</td>\n",
              "      <td>NaN</td>\n",
              "    </tr>\n",
              "  </tbody>\n",
              "</table>\n",
              "</div>\n",
              "      <button class=\"colab-df-convert\" onclick=\"convertToInteractive('df-e0631f06-f85d-434c-abf0-964eb94f1093')\"\n",
              "              title=\"Convert this dataframe to an interactive table.\"\n",
              "              style=\"display:none;\">\n",
              "        \n",
              "  <svg xmlns=\"http://www.w3.org/2000/svg\" height=\"24px\"viewBox=\"0 0 24 24\"\n",
              "       width=\"24px\">\n",
              "    <path d=\"M0 0h24v24H0V0z\" fill=\"none\"/>\n",
              "    <path d=\"M18.56 5.44l.94 2.06.94-2.06 2.06-.94-2.06-.94-.94-2.06-.94 2.06-2.06.94zm-11 1L8.5 8.5l.94-2.06 2.06-.94-2.06-.94L8.5 2.5l-.94 2.06-2.06.94zm10 10l.94 2.06.94-2.06 2.06-.94-2.06-.94-.94-2.06-.94 2.06-2.06.94z\"/><path d=\"M17.41 7.96l-1.37-1.37c-.4-.4-.92-.59-1.43-.59-.52 0-1.04.2-1.43.59L10.3 9.45l-7.72 7.72c-.78.78-.78 2.05 0 2.83L4 21.41c.39.39.9.59 1.41.59.51 0 1.02-.2 1.41-.59l7.78-7.78 2.81-2.81c.8-.78.8-2.07 0-2.86zM5.41 20L4 18.59l7.72-7.72 1.47 1.35L5.41 20z\"/>\n",
              "  </svg>\n",
              "      </button>\n",
              "      \n",
              "  <style>\n",
              "    .colab-df-container {\n",
              "      display:flex;\n",
              "      flex-wrap:wrap;\n",
              "      gap: 12px;\n",
              "    }\n",
              "\n",
              "    .colab-df-convert {\n",
              "      background-color: #E8F0FE;\n",
              "      border: none;\n",
              "      border-radius: 50%;\n",
              "      cursor: pointer;\n",
              "      display: none;\n",
              "      fill: #1967D2;\n",
              "      height: 32px;\n",
              "      padding: 0 0 0 0;\n",
              "      width: 32px;\n",
              "    }\n",
              "\n",
              "    .colab-df-convert:hover {\n",
              "      background-color: #E2EBFA;\n",
              "      box-shadow: 0px 1px 2px rgba(60, 64, 67, 0.3), 0px 1px 3px 1px rgba(60, 64, 67, 0.15);\n",
              "      fill: #174EA6;\n",
              "    }\n",
              "\n",
              "    [theme=dark] .colab-df-convert {\n",
              "      background-color: #3B4455;\n",
              "      fill: #D2E3FC;\n",
              "    }\n",
              "\n",
              "    [theme=dark] .colab-df-convert:hover {\n",
              "      background-color: #434B5C;\n",
              "      box-shadow: 0px 1px 3px 1px rgba(0, 0, 0, 0.15);\n",
              "      filter: drop-shadow(0px 1px 2px rgba(0, 0, 0, 0.3));\n",
              "      fill: #FFFFFF;\n",
              "    }\n",
              "  </style>\n",
              "\n",
              "      <script>\n",
              "        const buttonEl =\n",
              "          document.querySelector('#df-e0631f06-f85d-434c-abf0-964eb94f1093 button.colab-df-convert');\n",
              "        buttonEl.style.display =\n",
              "          google.colab.kernel.accessAllowed ? 'block' : 'none';\n",
              "\n",
              "        async function convertToInteractive(key) {\n",
              "          const element = document.querySelector('#df-e0631f06-f85d-434c-abf0-964eb94f1093');\n",
              "          const dataTable =\n",
              "            await google.colab.kernel.invokeFunction('convertToInteractive',\n",
              "                                                     [key], {});\n",
              "          if (!dataTable) return;\n",
              "\n",
              "          const docLinkHtml = 'Like what you see? Visit the ' +\n",
              "            '<a target=\"_blank\" href=https://colab.research.google.com/notebooks/data_table.ipynb>data table notebook</a>'\n",
              "            + ' to learn more about interactive tables.';\n",
              "          element.innerHTML = '';\n",
              "          dataTable['output_type'] = 'display_data';\n",
              "          await google.colab.output.renderOutput(dataTable, element);\n",
              "          const docLink = document.createElement('div');\n",
              "          docLink.innerHTML = docLinkHtml;\n",
              "          element.appendChild(docLink);\n",
              "        }\n",
              "      </script>\n",
              "    </div>\n",
              "  </div>\n",
              "  "
            ]
          },
          "metadata": {},
          "execution_count": 492
        }
      ]
    },
    {
      "cell_type": "markdown",
      "source": [],
      "metadata": {
        "id": "KXBHLmqnOl5I"
      }
    },
    {
      "cell_type": "code",
      "source": [
        "var_total_df_2[var_total_df_2.Tipo=='comun']"
      ],
      "metadata": {
        "colab": {
          "base_uri": "https://localhost:8080/",
          "height": 175
        },
        "id": "esh9WCZ6OmWf",
        "outputId": "49379a39-0914-49fd-8105-341aa7594a3e"
      },
      "execution_count": 489,
      "outputs": [
        {
          "output_type": "execute_result",
          "data": {
            "text/plain": [
              "             Nombre                       Query   Lag Funcion   Tipo a_p\n",
              "0    N_saldomora_1M  COUNT( DISTINCT saldomora)   1.0     sum  comun   a\n",
              "2    N_saldomora_3M  COUNT( DISTINCT saldomora)   3.0     sum  comun   a\n",
              "5    N_saldomora_6M  COUNT( DISTINCT saldomora)   6.0     sum  comun   a\n",
              "11  N_saldomora_12M  COUNT( DISTINCT saldomora)  12.0     sum  comun   a"
            ],
            "text/html": [
              "\n",
              "  <div id=\"df-f9b5f9f1-5df6-4a22-a443-fbc357913def\">\n",
              "    <div class=\"colab-df-container\">\n",
              "      <div>\n",
              "<style scoped>\n",
              "    .dataframe tbody tr th:only-of-type {\n",
              "        vertical-align: middle;\n",
              "    }\n",
              "\n",
              "    .dataframe tbody tr th {\n",
              "        vertical-align: top;\n",
              "    }\n",
              "\n",
              "    .dataframe thead th {\n",
              "        text-align: right;\n",
              "    }\n",
              "</style>\n",
              "<table border=\"1\" class=\"dataframe\">\n",
              "  <thead>\n",
              "    <tr style=\"text-align: right;\">\n",
              "      <th></th>\n",
              "      <th>Nombre</th>\n",
              "      <th>Query</th>\n",
              "      <th>Lag</th>\n",
              "      <th>Funcion</th>\n",
              "      <th>Tipo</th>\n",
              "      <th>a_p</th>\n",
              "    </tr>\n",
              "  </thead>\n",
              "  <tbody>\n",
              "    <tr>\n",
              "      <th>0</th>\n",
              "      <td>N_saldomora_1M</td>\n",
              "      <td>COUNT( DISTINCT saldomora)</td>\n",
              "      <td>1.0</td>\n",
              "      <td>sum</td>\n",
              "      <td>comun</td>\n",
              "      <td>a</td>\n",
              "    </tr>\n",
              "    <tr>\n",
              "      <th>2</th>\n",
              "      <td>N_saldomora_3M</td>\n",
              "      <td>COUNT( DISTINCT saldomora)</td>\n",
              "      <td>3.0</td>\n",
              "      <td>sum</td>\n",
              "      <td>comun</td>\n",
              "      <td>a</td>\n",
              "    </tr>\n",
              "    <tr>\n",
              "      <th>5</th>\n",
              "      <td>N_saldomora_6M</td>\n",
              "      <td>COUNT( DISTINCT saldomora)</td>\n",
              "      <td>6.0</td>\n",
              "      <td>sum</td>\n",
              "      <td>comun</td>\n",
              "      <td>a</td>\n",
              "    </tr>\n",
              "    <tr>\n",
              "      <th>11</th>\n",
              "      <td>N_saldomora_12M</td>\n",
              "      <td>COUNT( DISTINCT saldomora)</td>\n",
              "      <td>12.0</td>\n",
              "      <td>sum</td>\n",
              "      <td>comun</td>\n",
              "      <td>a</td>\n",
              "    </tr>\n",
              "  </tbody>\n",
              "</table>\n",
              "</div>\n",
              "      <button class=\"colab-df-convert\" onclick=\"convertToInteractive('df-f9b5f9f1-5df6-4a22-a443-fbc357913def')\"\n",
              "              title=\"Convert this dataframe to an interactive table.\"\n",
              "              style=\"display:none;\">\n",
              "        \n",
              "  <svg xmlns=\"http://www.w3.org/2000/svg\" height=\"24px\"viewBox=\"0 0 24 24\"\n",
              "       width=\"24px\">\n",
              "    <path d=\"M0 0h24v24H0V0z\" fill=\"none\"/>\n",
              "    <path d=\"M18.56 5.44l.94 2.06.94-2.06 2.06-.94-2.06-.94-.94-2.06-.94 2.06-2.06.94zm-11 1L8.5 8.5l.94-2.06 2.06-.94-2.06-.94L8.5 2.5l-.94 2.06-2.06.94zm10 10l.94 2.06.94-2.06 2.06-.94-2.06-.94-.94-2.06-.94 2.06-2.06.94z\"/><path d=\"M17.41 7.96l-1.37-1.37c-.4-.4-.92-.59-1.43-.59-.52 0-1.04.2-1.43.59L10.3 9.45l-7.72 7.72c-.78.78-.78 2.05 0 2.83L4 21.41c.39.39.9.59 1.41.59.51 0 1.02-.2 1.41-.59l7.78-7.78 2.81-2.81c.8-.78.8-2.07 0-2.86zM5.41 20L4 18.59l7.72-7.72 1.47 1.35L5.41 20z\"/>\n",
              "  </svg>\n",
              "      </button>\n",
              "      \n",
              "  <style>\n",
              "    .colab-df-container {\n",
              "      display:flex;\n",
              "      flex-wrap:wrap;\n",
              "      gap: 12px;\n",
              "    }\n",
              "\n",
              "    .colab-df-convert {\n",
              "      background-color: #E8F0FE;\n",
              "      border: none;\n",
              "      border-radius: 50%;\n",
              "      cursor: pointer;\n",
              "      display: none;\n",
              "      fill: #1967D2;\n",
              "      height: 32px;\n",
              "      padding: 0 0 0 0;\n",
              "      width: 32px;\n",
              "    }\n",
              "\n",
              "    .colab-df-convert:hover {\n",
              "      background-color: #E2EBFA;\n",
              "      box-shadow: 0px 1px 2px rgba(60, 64, 67, 0.3), 0px 1px 3px 1px rgba(60, 64, 67, 0.15);\n",
              "      fill: #174EA6;\n",
              "    }\n",
              "\n",
              "    [theme=dark] .colab-df-convert {\n",
              "      background-color: #3B4455;\n",
              "      fill: #D2E3FC;\n",
              "    }\n",
              "\n",
              "    [theme=dark] .colab-df-convert:hover {\n",
              "      background-color: #434B5C;\n",
              "      box-shadow: 0px 1px 3px 1px rgba(0, 0, 0, 0.15);\n",
              "      filter: drop-shadow(0px 1px 2px rgba(0, 0, 0, 0.3));\n",
              "      fill: #FFFFFF;\n",
              "    }\n",
              "  </style>\n",
              "\n",
              "      <script>\n",
              "        const buttonEl =\n",
              "          document.querySelector('#df-f9b5f9f1-5df6-4a22-a443-fbc357913def button.colab-df-convert');\n",
              "        buttonEl.style.display =\n",
              "          google.colab.kernel.accessAllowed ? 'block' : 'none';\n",
              "\n",
              "        async function convertToInteractive(key) {\n",
              "          const element = document.querySelector('#df-f9b5f9f1-5df6-4a22-a443-fbc357913def');\n",
              "          const dataTable =\n",
              "            await google.colab.kernel.invokeFunction('convertToInteractive',\n",
              "                                                     [key], {});\n",
              "          if (!dataTable) return;\n",
              "\n",
              "          const docLinkHtml = 'Like what you see? Visit the ' +\n",
              "            '<a target=\"_blank\" href=https://colab.research.google.com/notebooks/data_table.ipynb>data table notebook</a>'\n",
              "            + ' to learn more about interactive tables.';\n",
              "          element.innerHTML = '';\n",
              "          dataTable['output_type'] = 'display_data';\n",
              "          await google.colab.output.renderOutput(dataTable, element);\n",
              "          const docLink = document.createElement('div');\n",
              "          docLink.innerHTML = docLinkHtml;\n",
              "          element.appendChild(docLink);\n",
              "        }\n",
              "      </script>\n",
              "    </div>\n",
              "  </div>\n",
              "  "
            ]
          },
          "metadata": {},
          "execution_count": 489
        }
      ]
    },
    {
      "cell_type": "markdown",
      "source": [
        "## Conteo Categorico"
      ],
      "metadata": {
        "id": "goSSBEfUQ49K"
      }
    },
    {
      "cell_type": "code",
      "source": [
        "var_comun_b_df_list=list()\n",
        "funcion_p=['min','max','avg']\n",
        "df_l=list()\n",
        "var_total_list_3=list()\n",
        "for categoria_x in categorias:\n",
        "  var_total_list_2=list()\n",
        "  for funcion_x in ['COUNT']:\n",
        "    #print(categoria_x,funcion_x)\n",
        "    nombre_l=list()\n",
        "    query_l=list()\n",
        "    lag_l=list()\n",
        "    for lag_x in list(range(max(lags)+1))[1:]:\n",
        "      #print(lag_x)\n",
        "      query=f\"{funcion_x}(DISTINCT (case when {var2}='{categoria_x}' then {var} else 0 end))\"\n",
        "      nombre=f\"N_{var}_{categoria_x}_{lag_x}M\"\n",
        "      lag=lag_x\n",
        "      #print(query,lag_x,nombre)\n",
        "      nombre_l.append(nombre)\n",
        "      query_l.append(query)\n",
        "      lag_l.append(lag)\n",
        "\n",
        "    var_comun_p_df=pd.DataFrame({\n",
        "        'Nombre': nombre_l,\n",
        "        'Query': query_l,\n",
        "        'Lag': lag_l\n",
        "      })\n",
        "    var_comun_p_df['Tipo']='comun'\n",
        "    var_comun_p_df['Funcion']='sql'\n",
        "    var_comun_p_df['a_p']='p'\n",
        "\n",
        "    var_comun_a_df=var_comun_p_df.copy()\n",
        "    var_comun_a_df=var_comun_a_df[var_comun_a_df.Lag.isin(lags)]\n",
        "    var_comun_a_df['a_p']='a'\n",
        "    var_comun1_df=var_comun_a_df\n",
        "    ## Var Ratios\n",
        "    nombre_lr=list()\n",
        "    query_lr=list()\n",
        "    tipo_lr=list()\n",
        "\n",
        "    for a_p_x in ['a']:\n",
        "      variable_x=var_comun1_df[(var_comun1_df.a_p==a_p_x)]['Nombre'].str.replace('_*([^_*]*)$','',regex=True).drop_duplicates().to_list()\n",
        "      for var_x in variable_x:\n",
        "        for lag_s_x in range(len(lags_s)):\n",
        "          #print(lag_x,lag_s_x)\n",
        "          nom_lag_x=lags_s[lag_s_x]\n",
        "          nom_lag_x_n=nom_lag_x.replace('_','')\n",
        "          numerador=var_comun1_df[(var_comun1_df.Lag==lags[lag_s_x]) & (var_comun1_df.a_p==a_p_x) & (var_comun1_df.Nombre.str.contains(var_x))]['Nombre'].values[0]\n",
        "          name_num=numerador.replace(nom_lag_x,'')\n",
        "          for lag_s_y in range(len(lags_s))[lag_s_x+1:]:\n",
        "            #print(nom_lag_x,nom_lag_y)\n",
        "            nom_lag_y=lags_s[lag_s_y]\n",
        "            nom_lag_y_n=nom_lag_y.replace('_','')\n",
        "            #print(nom_lag_x,nom_lag_y)\n",
        "            denominador=var_comun1_df[(var_comun1_df.Lag==lags[lag_s_y] ) & (var_comun1_df.a_p==a_p_x) & (var_comun1_df.Nombre.str.contains(var_x))]['Nombre'].values[0]\n",
        "            query_r=numerador+'/'+denominador\n",
        "            nombre_r=f'{name_num}_T{nom_lag_x_n}{nom_lag_y_n}'\n",
        "            nombre_lr.append(nombre_r)\n",
        "            query_lr.append(query_r)\n",
        "            if a_p_x=='p_a':\n",
        "              tipo_lr.append('ratio2')\n",
        "            else:\n",
        "              tipo_lr.append('ratio')\n",
        "    var_ratio={\n",
        "        'Nombre': nombre_lr,\n",
        "        'Query': query_lr,\n",
        "        'Tipo': tipo_lr}\n",
        "    var_ratio_df=pd.DataFrame(var_ratio)\n",
        "    var_ratio_df['Funcion']='div' \n",
        "      ## Append para cada tipo de a_funcion\n",
        "    var_total_df=pd.concat([var_comun1_df,var_ratio_df])\n",
        "    var_total_list_2.append(var_total_df) # Tengo una lista para cada funcion y a\n",
        "    ## Append para cada categoria\n",
        "    var_total_df_2=pd.concat(var_total_list_2)\n",
        "  var_total_list_3.append(var_total_df_2)\n",
        "var_total_df_4=pd.concat(var_total_list_3)\n",
        "var_total_df_4['a_p']=np.where(var_total_df_4['Tipo']!='comun',np.nan,var_total_df_4['a_p'])\n",
        "var_total_df_4['Lag']=np.where(var_total_df_4['Tipo']!='comun',np.nan,var_total_df_4['Lag'])"
      ],
      "metadata": {
        "id": "52-5wJQQQ4K5"
      },
      "execution_count": 499,
      "outputs": []
    },
    {
      "cell_type": "code",
      "source": [
        "var_total_df_4.shape"
      ],
      "metadata": {
        "colab": {
          "base_uri": "https://localhost:8080/"
        },
        "id": "1qJi6eSaR838",
        "outputId": "8dc3ce36-ad78-4fc0-b0d3-e68e5bfddf5d"
      },
      "execution_count": 502,
      "outputs": [
        {
          "output_type": "execute_result",
          "data": {
            "text/plain": [
              "(20, 6)"
            ]
          },
          "metadata": {},
          "execution_count": 502
        }
      ]
    },
    {
      "cell_type": "code",
      "source": [
        " var_comun1_df.drop_duplicates().shape   "
      ],
      "metadata": {
        "colab": {
          "base_uri": "https://localhost:8080/"
        },
        "id": "DZCJ6HybR3_N",
        "outputId": "79cd3af0-9475-4dca-c1a2-2f2a7ead0305"
      },
      "execution_count": 497,
      "outputs": [
        {
          "output_type": "execute_result",
          "data": {
            "text/plain": [
              "(4, 6)"
            ]
          },
          "metadata": {},
          "execution_count": 497
        }
      ]
    }
  ]
}